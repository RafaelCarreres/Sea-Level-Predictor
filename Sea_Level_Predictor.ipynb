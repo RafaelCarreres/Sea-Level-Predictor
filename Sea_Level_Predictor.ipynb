{
  "nbformat": 4,
  "nbformat_minor": 0,
  "metadata": {
    "colab": {
      "name": "Sea Level Predictor.ipynb",
      "provenance": []
    },
    "kernelspec": {
      "name": "python3",
      "display_name": "Python 3"
    }
  },
  "cells": [
    {
      "cell_type": "markdown",
      "metadata": {
        "id": "puTD994jS9TS"
      },
      "source": [
        "## Sea Level Predictor\n",
        "\n",
        "You will anaylize a dataset of the global average sea level change since 1880. You will use the data to predict the sea level change through year 2050.\n",
        "\n",
        "Use the data to complete the following tasks:\n",
        "\n",
        "- Use Pandas to import the data from epa-sea-level.csv.\n",
        "- Use matplotlib to create a scatter plot using the \"Year\" column as the x-axis and the \"CSIRO Adjusted Sea Level\" column as the y-axix.\n",
        "\n",
        "- Use the linregress function from scipi.stats to get the slope and y-intercept of the line of best fit. \n",
        "- Plot the line of best fit over the top of the scatter plot. Make the line go through the year 2050 to predict the sea level rise in 2050.\n",
        "\n",
        "- Plot a new line of best fit just using the data from year 2000 through the most recent year in the dataset. Make the line also go through the year 2050 to predict the sea level rise in 2050 if the rate of rise continues as it has since the year 2000.\n",
        "\n",
        "- The x label should be \"Year\", the y label should be \"Sea Level (inches)\", and the title should be \"Rise in Sea Level\"."
      ]
    },
    {
      "cell_type": "code",
      "metadata": {
        "id": "Ljx3wHRSSvOR"
      },
      "source": [
        "import pandas as pd\n",
        "import matplotlib.pyplot as plt\n",
        "import numpy as np\n",
        "from scipy.stats import linregress\n",
        "\n",
        "def draw_plot():\n",
        "    # Read data from file\n",
        "    df = pd.read_csv('epa-sea-level.csv')\n",
        "    df.Year = df.Year.astype(float)\n",
        "    # Create scatter plot\n",
        "    fig = plt.figure(figsize=(8, 6))\n",
        "    ax = fig.add_subplot(111)\n",
        "\n",
        "    ax.scatter(x='Year', y='CSIRO Adjusted Sea Level', data=df)\n",
        "\n",
        "    # Create first line of best fit\n",
        "    x = df['Year']\n",
        "    y = df['CSIRO Adjusted Sea Level']\n",
        "    slope, intercept, r_value, p_value, std_err = linregress(x, y)\n",
        "    years_extended = np.arange(1880, 2050, 1)\n",
        "    line = [slope * xi + intercept for xi in years_extended]\n",
        "\n",
        "    plt.plot(years_extended, line, c='r')\n",
        "    plt.xticks(np.arange(1850.0, 2100.0, 25.0))\n",
        "    plt.yticks(range(0,16, 2))\n",
        "\n",
        "    # Create second line of best fit\n",
        "    df2 = df[df.Year >= 2000]\n",
        "    x = df2['Year']\n",
        "    y = df2['CSIRO Adjusted Sea Level']\n",
        "    slope, intercept, r_value, p_value, std_err = linregress(x, y)\n",
        "    years_extended = np.arange(2000, 2050, 1)\n",
        "    line = [slope * xi + intercept for xi in years_extended]\n",
        "\n",
        "    plt.plot(years_extended, line, c='r')\n",
        "\n",
        "    # Add labels and title\n",
        "    ax.set_title('Rise in Sea Level')\n",
        "    ax.set_xlabel('Year')\n",
        "    ax.set_ylabel('Sea Level (inches)')\n",
        "    \n",
        "    # Save plot and return data for testing\n",
        "    plt.savefig('sea_level_plot.png')\n",
        "    return plt.gca()"
      ],
      "execution_count": null,
      "outputs": []
    }
  ]
}